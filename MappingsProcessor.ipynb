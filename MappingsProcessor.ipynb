{
 "cells": [
  {
   "cell_type": "code",
   "execution_count": 2,
   "metadata": {
    "collapsed": false
   },
   "outputs": [],
   "source": [
    "import rdflib\n",
    "import glob"
   ]
  },
  {
   "cell_type": "code",
   "execution_count": null,
   "metadata": {
    "collapsed": true
   },
   "outputs": [],
   "source": [
    "# import rdflib\n",
    "# graph = rdflib.Graph()\n",
    "# graph.parse('/media/misc/jp/DBpedia201610/dbpedia_2016-10.owl', format='xml')"
   ]
  },
  {
   "cell_type": "code",
   "execution_count": 15,
   "metadata": {
    "collapsed": false
   },
   "outputs": [],
   "source": [
    "graph = rdflib.Graph()\n",
    "for fn in glob.glob(\"mappings-tracker/mappings/en/*.ttl\"): #+ glob.glob(\"/media/misc/jp/DNNont/mappings-tracker/mappings/commons/*.ttl\"):\n",
    "    graph.parse(fn, format='turtle')"
   ]
  },
  {
   "cell_type": "code",
   "execution_count": 22,
   "metadata": {
    "collapsed": true
   },
   "outputs": [],
   "source": [
    "def find_for_predicate(target):\n",
    "#     if isinstance(target, URIRef):\n",
    "#         target = target.n3()\n",
    "    query = r'''\n",
    "    prefix rr:             <http://www.w3.org/ns/r2rml#> \n",
    "\n",
    "    select ?tripleMap ?templateProperty ?predicate\n",
    "    where\n",
    "    {{\n",
    "        ?tripleMap rr:predicateObjectMap ?spm, ?spm2 .\n",
    "        ?spm rr:predicate {target} .\n",
    "        ?spm rr:objectMap _:om .\n",
    "        _:om rml:reference ?templateProperty .\n",
    "        ?spm2 rr:objectMap _:om2 .\n",
    "        _:om2 rml:reference ?templateProperty .\n",
    "        ?spm2 rr:predicate ?predicate\n",
    "    }}\n",
    "    '''.format(target=target)    \n",
    "    return [row for row in graph.query(query)]"
   ]
  },
  {
   "cell_type": "code",
   "execution_count": 23,
   "metadata": {
    "collapsed": false
   },
   "outputs": [],
   "source": [
    "def pp(results):\n",
    "    nsmgr = graph.namespace_manager\n",
    "    for row in results:\n",
    "        row = [v.n3(nsmgr) for v in row]\n",
    "        print(*row)"
   ]
  },
  {
   "cell_type": "code",
   "execution_count": 24,
   "metadata": {
    "collapsed": false
   },
   "outputs": [
    {
     "name": "stdout",
     "output_type": "stream",
     "text": [
      "<http://en.dbpedia.org/resource/Mapping_en:Infobox_person> \"nationality\" dbo:stateOfOrigin\n",
      "<http://en.dbpedia.org/resource/Mapping_en:Infobox_person> \"nationality\" dbo:nationality\n",
      "<http://en.dbpedia.org/resource/Mapping_en:Infobox_sportsperson> \"nationality\" dbo:nationality\n",
      "<http://en.dbpedia.org/resource/Mapping_en:Infobox_sportsperson> \"nationality\" dbo:stateOfOrigin\n"
     ]
    }
   ],
   "source": [
    "pp(find_for_predicate('dbo:stateOfOrigin'))"
   ]
  },
  {
   "cell_type": "code",
   "execution_count": 25,
   "metadata": {
    "collapsed": false
   },
   "outputs": [
    {
     "name": "stdout",
     "output_type": "stream",
     "text": [
      "<http://en.dbpedia.org/resource/Mapping_en:Infobox_Automobile_generation> \"designer\" dbo:designer\n",
      "<http://en.dbpedia.org/resource/Mapping_en:Infobox_Automobile_generation> \"designer\" dbo:designCompany\n",
      "<http://en.dbpedia.org/resource/Mapping_en:Infobox_automobile> \"designer\" dbo:designer\n",
      "<http://en.dbpedia.org/resource/Mapping_en:Infobox_automobile> \"designer\" dbo:designCompany\n",
      "<http://en.dbpedia.org/resource/Mapping_en:Infobox_North_American_Automobile> \"designer\" dbo:designCompany\n",
      "<http://en.dbpedia.org/resource/Mapping_en:Infobox_North_American_Automobile> \"designer\" dbo:designer\n"
     ]
    }
   ],
   "source": [
    "pp(find_for_predicate('dbo:designCompany'))"
   ]
  },
  {
   "cell_type": "code",
   "execution_count": 26,
   "metadata": {
    "collapsed": false
   },
   "outputs": [
    {
     "name": "stdout",
     "output_type": "stream",
     "text": [
      "<http://en.dbpedia.org/resource/Mapping_en:Infobox_law_firm> \"company_type\" dbo:legalForm\n",
      "<http://en.dbpedia.org/resource/Mapping_en:Infobox_law_firm> \"company_type\" dbo:type\n"
     ]
    }
   ],
   "source": [
    "pp(find_for_predicate('dbo:legalForm'))"
   ]
  },
  {
   "cell_type": "code",
   "execution_count": 27,
   "metadata": {
    "collapsed": false
   },
   "outputs": [
    {
     "name": "stdout",
     "output_type": "stream",
     "text": [
      "<http://en.dbpedia.org/resource/Mapping_en:Geobox> \"lowest_location\" dbo:lowestMountain\n",
      "<http://en.dbpedia.org/resource/Mapping_en:Geobox> \"lowest_location\" dbo:lowestPlace\n"
     ]
    }
   ],
   "source": [
    "pp(find_for_predicate('dbo:lowestMountain'))"
   ]
  },
  {
   "cell_type": "code",
   "execution_count": 28,
   "metadata": {
    "collapsed": false
   },
   "outputs": [
    {
     "name": "stdout",
     "output_type": "stream",
     "text": [
      "<http://en.dbpedia.org/resource/Mapping_en:Infobox_football_club_season> \"stadium\" dbo:ground\n",
      "<http://en.dbpedia.org/resource/Mapping_en:Infobox_football_club_season> \"stadium\" dbo:homeStadium\n",
      "<http://en.dbpedia.org/resource/Mapping_en:Infobox_CFL_team> \"field\" dbo:homeStadium\n"
     ]
    }
   ],
   "source": [
    "pp(find_for_predicate('dbo:homeStadium'))"
   ]
  },
  {
   "cell_type": "code",
   "execution_count": 29,
   "metadata": {
    "collapsed": false
   },
   "outputs": [
    {
     "name": "stdout",
     "output_type": "stream",
     "text": [
      "<http://en.dbpedia.org/resource/Mapping_en:Infobox_country> \"official_languages\" dbo:officialLanguage\n",
      "<http://en.dbpedia.org/resource/Mapping_en:Infobox_country> \"official_languages\" dbo:language\n",
      "<http://en.dbpedia.org/resource/Mapping_en:Infobox_Geopolitical_organization> \"official_languages\" dbo:officialLanguage\n",
      "<http://en.dbpedia.org/resource/Mapping_en:Infobox_Geopolitical_organization> \"official_languages\" dbo:language\n",
      "<http://en.dbpedia.org/resource/Mapping_en:Infobox_former_country> \"official_languages\" dbo:officialLanguage\n",
      "<http://en.dbpedia.org/resource/Mapping_en:Infobox_former_country> \"official_languages\" dbo:language\n",
      "<http://en.dbpedia.org/resource/Mapping_en:Infobox_former_subdivision> \"official_languages\" dbo:language\n",
      "<http://en.dbpedia.org/resource/Mapping_en:Infobox_former_subdivision> \"official_languages\" dbo:officialLanguage\n"
     ]
    }
   ],
   "source": [
    "pp(find_for_predicate('dbo:officialLanguage'))"
   ]
  },
  {
   "cell_type": "code",
   "execution_count": 33,
   "metadata": {
    "collapsed": false
   },
   "outputs": [
    {
     "name": "stdout",
     "output_type": "stream",
     "text": [
      "<http://en.dbpedia.org/resource/Mapping_en:Infobox_single> \"Artist\" dbo:musicalBand\n",
      "<http://en.dbpedia.org/resource/Mapping_en:Infobox_single> \"Artist\" dbo:musicalArtist\n"
     ]
    },
    {
     "data": {
      "text/plain": [
       "True"
      ]
     },
     "execution_count": 33,
     "metadata": {},
     "output_type": "execute_result"
    }
   ],
   "source": [
    "pp(find_for_predicate('dbo:musicalArtist'))\n",
    "find_for_predicate('dbo:musicalBand') == find_for_predicate('dbo:musicalArtist')"
   ]
  },
  {
   "cell_type": "code",
   "execution_count": 34,
   "metadata": {
    "collapsed": false
   },
   "outputs": [
    {
     "name": "stdout",
     "output_type": "stream",
     "text": [
      "<http://en.dbpedia.org/resource/Mapping_en:Geobox> \"mouth_location\" dbo:mouthMountain\n",
      "<http://en.dbpedia.org/resource/Mapping_en:Geobox> \"mouth_location\" dbo:mouthPlace\n",
      "<http://en.dbpedia.org/resource/Mapping_en:Infobox_river> \"mouth_location\" dbo:mouthMountain\n",
      "<http://en.dbpedia.org/resource/Mapping_en:Infobox_river> \"mouth_location\" dbo:mouthPlace\n"
     ]
    },
    {
     "data": {
      "text/plain": [
       "True"
      ]
     },
     "execution_count": 34,
     "metadata": {},
     "output_type": "execute_result"
    }
   ],
   "source": [
    "pp(find_for_predicate('dbo:mouthPlace'))\n",
    "find_for_predicate('dbo:mouthPlace') == find_for_predicate('dbo:mouthMountain')"
   ]
  },
  {
   "cell_type": "code",
   "execution_count": 35,
   "metadata": {
    "collapsed": false
   },
   "outputs": [
    {
     "name": "stdout",
     "output_type": "stream",
     "text": [
      "<http://en.dbpedia.org/resource/Mapping_en:Geobox> \"source1_location\" dbo:sourceMountain\n",
      "<http://en.dbpedia.org/resource/Mapping_en:Geobox> \"source1_location\" dbo:sourcePlace\n",
      "<http://en.dbpedia.org/resource/Mapping_en:Infobox_river> \"source_location\" dbo:sourcePlace\n",
      "<http://en.dbpedia.org/resource/Mapping_en:Infobox_river> \"source_location\" dbo:sourceMountain\n",
      "<http://en.dbpedia.org/resource/Mapping_en:Geobox> \"source_location\" dbo:sourcePlace\n",
      "<http://en.dbpedia.org/resource/Mapping_en:Geobox> \"source_location\" dbo:sourceMountain\n"
     ]
    },
    {
     "data": {
      "text/plain": [
       "False"
      ]
     },
     "execution_count": 35,
     "metadata": {},
     "output_type": "execute_result"
    }
   ],
   "source": [
    "pp(find_for_predicate('dbo:sourcePlace'))\n",
    "find_for_predicate('dbo:sourcePlace') == find_for_predicate('dbo:sourceMountain')"
   ]
  },
  {
   "cell_type": "code",
   "execution_count": 36,
   "metadata": {
    "collapsed": false
   },
   "outputs": [
    {
     "name": "stdout",
     "output_type": "stream",
     "text": [
      "<http://en.dbpedia.org/resource/Mapping_en:Geobox> \"source_confluence_location\" dbo:sourceConfluencePlace\n",
      "<http://en.dbpedia.org/resource/Mapping_en:Geobox> \"source_confluence_location\" dbo:sourceConfluenceMountain\n"
     ]
    },
    {
     "data": {
      "text/plain": [
       "True"
      ]
     },
     "execution_count": 36,
     "metadata": {},
     "output_type": "execute_result"
    }
   ],
   "source": [
    "pp(find_for_predicate('dbo:sourceConfluencePlace'))\n",
    "find_for_predicate('dbo:sourceConfluencePlace') == find_for_predicate('dbo:sourceConfluenceMountain')"
   ]
  },
  {
   "cell_type": "code",
   "execution_count": 40,
   "metadata": {
    "collapsed": false
   },
   "outputs": [
    {
     "name": "stdout",
     "output_type": "stream",
     "text": [
      "<http://en.dbpedia.org/resource/Mapping_en:Infobox_musical_artist> \"Associated_acts\" dbo:associatedBand\n",
      "<http://en.dbpedia.org/resource/Mapping_en:Infobox_musical_artist> \"Associated_acts\" dbo:associatedMusicalArtist\n",
      "<http://en.dbpedia.org/resource/Mapping_en:Infobox_musical_artist> \"associated_acts\" dbo:associatedMusicalArtist\n",
      "<http://en.dbpedia.org/resource/Mapping_en:Infobox_musical_artist> \"associated_acts\" dbo:associatedBand\n"
     ]
    },
    {
     "data": {
      "text/plain": [
       "True"
      ]
     },
     "execution_count": 40,
     "metadata": {},
     "output_type": "execute_result"
    }
   ],
   "source": [
    "pp(find_for_predicate('dbo:associatedMusicalArtist'))\n",
    "sorted(find_for_predicate('dbo:associatedMusicalArtist')) == sorted(find_for_predicate('dbo:associatedBand'))"
   ]
  },
  {
   "cell_type": "code",
   "execution_count": 45,
   "metadata": {
    "collapsed": false
   },
   "outputs": [
    {
     "name": "stdout",
     "output_type": "stream",
     "text": [
      "<http://en.dbpedia.org/resource/Mapping_en:Infobox_record_label> \"distributor\" dbo:distributingLabel\n",
      "<http://en.dbpedia.org/resource/Mapping_en:Infobox_record_label> \"distributor\" dbo:distributingCompany\n"
     ]
    },
    {
     "data": {
      "text/plain": [
       "True"
      ]
     },
     "execution_count": 45,
     "metadata": {},
     "output_type": "execute_result"
    }
   ],
   "source": [
    "pp(find_for_predicate('dbo:distributingCompany'))\n",
    "find_for_predicate('dbo:distributingCompany') == find_for_predicate('dbo:distributingLabel')"
   ]
  },
  {
   "cell_type": "code",
   "execution_count": 49,
   "metadata": {
    "collapsed": false
   },
   "outputs": [
    {
     "data": {
      "text/plain": [
       "[(rdflib.term.URIRef('http://en.dbpedia.org/resource/Mapping_en:Infobox_UK_place'),\n",
       "  rdflib.term.Literal('metropolitan_borough'),\n",
       "  rdflib.term.URIRef('http://dbpedia.org/ontology/metropolitanBorough')),\n",
       " (rdflib.term.URIRef('http://en.dbpedia.org/resource/Mapping_en:Infobox_UK_place'),\n",
       "  rdflib.term.Literal('metropolitan_borough1'),\n",
       "  rdflib.term.URIRef('http://dbpedia.org/ontology/metropolitanBorough'))]"
      ]
     },
     "execution_count": 49,
     "metadata": {},
     "output_type": "execute_result"
    }
   ],
   "source": [
    "find_for_predicate('dbo:metropolitanBorough')"
   ]
  },
  {
   "cell_type": "code",
   "execution_count": 50,
   "metadata": {
    "collapsed": false
   },
   "outputs": [
    {
     "data": {
      "text/plain": [
       "[(rdflib.term.URIRef('http://en.dbpedia.org/resource/Mapping_en:Infobox_Russian_inhabited_locality'),\n",
       "  rdflib.term.Literal('ruling_party1'),\n",
       "  rdflib.term.URIRef('http://dbpedia.org/ontology/leaderParty')),\n",
       " (rdflib.term.URIRef('http://en.dbpedia.org/resource/Mapping_en:Infobox_South_African_town'),\n",
       "  rdflib.term.Literal('mayor_party'),\n",
       "  rdflib.term.URIRef('http://dbpedia.org/ontology/leaderParty')),\n",
       " (rdflib.term.URIRef('http://en.dbpedia.org/resource/Mapping_en:Infobox_Israel_municipality'),\n",
       "  rdflib.term.Literal('ruling_party1'),\n",
       "  rdflib.term.URIRef('http://dbpedia.org/ontology/leaderParty')),\n",
       " (rdflib.term.URIRef('http://en.dbpedia.org/resource/Mapping_en:Infobox_German_location'),\n",
       "  rdflib.term.Literal('ruling_party3'),\n",
       "  rdflib.term.URIRef('http://dbpedia.org/ontology/leaderParty')),\n",
       " (rdflib.term.URIRef('http://en.dbpedia.org/resource/Mapping_en:Infobox_German_state'),\n",
       "  rdflib.term.Literal('mayor_party'),\n",
       "  rdflib.term.URIRef('http://dbpedia.org/ontology/leaderParty')),\n",
       " (rdflib.term.URIRef('http://en.dbpedia.org/resource/Mapping_en:Infobox_German_state'),\n",
       "  rdflib.term.Literal('ruling_party1'),\n",
       "  rdflib.term.URIRef('http://dbpedia.org/ontology/leaderParty')),\n",
       " (rdflib.term.URIRef('http://en.dbpedia.org/resource/Mapping_en:Infobox_Russian_inhabited_locality'),\n",
       "  rdflib.term.Literal('Partei'),\n",
       "  rdflib.term.URIRef('http://dbpedia.org/ontology/leaderParty')),\n",
       " (rdflib.term.URIRef('http://en.dbpedia.org/resource/Mapping_en:Infobox_German_location'),\n",
       "  rdflib.term.Literal('ruling_party1'),\n",
       "  rdflib.term.URIRef('http://dbpedia.org/ontology/leaderParty')),\n",
       " (rdflib.term.URIRef('http://en.dbpedia.org/resource/Mapping_en:Infobox_Israel_municipality'),\n",
       "  rdflib.term.Literal('ruling_party3'),\n",
       "  rdflib.term.URIRef('http://dbpedia.org/ontology/leaderParty')),\n",
       " (rdflib.term.URIRef('http://en.dbpedia.org/resource/Mapping_en:Infobox_city_Japan'),\n",
       "  rdflib.term.Literal('ruling_party1'),\n",
       "  rdflib.term.URIRef('http://dbpedia.org/ontology/leaderParty')),\n",
       " (rdflib.term.URIRef('http://en.dbpedia.org/resource/Mapping_en:Infobox_city_Japan'),\n",
       "  rdflib.term.Literal('ruling_party2'),\n",
       "  rdflib.term.URIRef('http://dbpedia.org/ontology/leaderParty')),\n",
       " (rdflib.term.URIRef('http://en.dbpedia.org/resource/Mapping_en:Infobox_Russian_inhabited_locality'),\n",
       "  rdflib.term.Literal('ruling_party3'),\n",
       "  rdflib.term.URIRef('http://dbpedia.org/ontology/leaderParty')),\n",
       " (rdflib.term.URIRef('http://en.dbpedia.org/resource/Mapping_en:Infobox_Israel_municipality'),\n",
       "  rdflib.term.Literal('mayor_party'),\n",
       "  rdflib.term.URIRef('http://dbpedia.org/ontology/leaderParty')),\n",
       " (rdflib.term.URIRef('http://en.dbpedia.org/resource/Mapping_en:Infobox_Italian_comune'),\n",
       "  rdflib.term.Literal('mayor_party'),\n",
       "  rdflib.term.URIRef('http://dbpedia.org/ontology/leaderParty')),\n",
       " (rdflib.term.URIRef('http://en.dbpedia.org/resource/Mapping_en:Infobox_German_state'),\n",
       "  rdflib.term.Literal('Partei'),\n",
       "  rdflib.term.URIRef('http://dbpedia.org/ontology/leaderParty')),\n",
       " (rdflib.term.URIRef('http://en.dbpedia.org/resource/Mapping_en:Infobox_settlement'),\n",
       "  rdflib.term.Literal('leader_party'),\n",
       "  rdflib.term.URIRef('http://dbpedia.org/ontology/leaderParty')),\n",
       " (rdflib.term.URIRef('http://en.dbpedia.org/resource/Mapping_en:Infobox_Israel_municipality'),\n",
       "  rdflib.term.Literal('ruling_party2'),\n",
       "  rdflib.term.URIRef('http://dbpedia.org/ontology/leaderParty')),\n",
       " (rdflib.term.URIRef('http://en.dbpedia.org/resource/Mapping_en:Infobox_city_Japan'),\n",
       "  rdflib.term.Literal('ruling_party3'),\n",
       "  rdflib.term.URIRef('http://dbpedia.org/ontology/leaderParty')),\n",
       " (rdflib.term.URIRef('http://en.dbpedia.org/resource/Mapping_en:Infobox_Swiss_town'),\n",
       "  rdflib.term.Literal('mayor_party'),\n",
       "  rdflib.term.URIRef('http://dbpedia.org/ontology/leaderParty')),\n",
       " (rdflib.term.URIRef('http://en.dbpedia.org/resource/Mapping_en:Infobox_Russian_inhabited_locality'),\n",
       "  rdflib.term.Literal('ruling_party2'),\n",
       "  rdflib.term.URIRef('http://dbpedia.org/ontology/leaderParty')),\n",
       " (rdflib.term.URIRef('http://en.dbpedia.org/resource/Mapping_en:Infobox_German_state'),\n",
       "  rdflib.term.Literal('ruling_party2'),\n",
       "  rdflib.term.URIRef('http://dbpedia.org/ontology/leaderParty')),\n",
       " (rdflib.term.URIRef('http://en.dbpedia.org/resource/Mapping_en:Infobox_Russian_inhabited_locality'),\n",
       "  rdflib.term.Literal('mayor_party'),\n",
       "  rdflib.term.URIRef('http://dbpedia.org/ontology/leaderParty')),\n",
       " (rdflib.term.URIRef('http://en.dbpedia.org/resource/Mapping_en:Infobox_German_state'),\n",
       "  rdflib.term.Literal('ruling_party3'),\n",
       "  rdflib.term.URIRef('http://dbpedia.org/ontology/leaderParty')),\n",
       " (rdflib.term.URIRef('http://en.dbpedia.org/resource/Mapping_en:Infobox_German_location'),\n",
       "  rdflib.term.Literal('Partei'),\n",
       "  rdflib.term.URIRef('http://dbpedia.org/ontology/leaderParty')),\n",
       " (rdflib.term.URIRef('http://en.dbpedia.org/resource/Mapping_en:Infobox_city_Japan'),\n",
       "  rdflib.term.Literal('mayor_party'),\n",
       "  rdflib.term.URIRef('http://dbpedia.org/ontology/leaderParty')),\n",
       " (rdflib.term.URIRef('http://en.dbpedia.org/resource/Mapping_en:Infobox_German_location'),\n",
       "  rdflib.term.Literal('party'),\n",
       "  rdflib.term.URIRef('http://dbpedia.org/ontology/leaderParty')),\n",
       " (rdflib.term.URIRef('http://en.dbpedia.org/resource/Mapping_en:Infobox_German_location'),\n",
       "  rdflib.term.Literal('ruling_party2'),\n",
       "  rdflib.term.URIRef('http://dbpedia.org/ontology/leaderParty')),\n",
       " (rdflib.term.URIRef('http://en.dbpedia.org/resource/Mapping_en:Infobox_Israel_municipality'),\n",
       "  rdflib.term.Literal('Partei'),\n",
       "  rdflib.term.URIRef('http://dbpedia.org/ontology/leaderParty'))]"
      ]
     },
     "execution_count": 50,
     "metadata": {},
     "output_type": "execute_result"
    }
   ],
   "source": [
    "find_for_predicate('dbo:leaderParty')"
   ]
  },
  {
   "cell_type": "code",
   "execution_count": null,
   "metadata": {
    "collapsed": true
   },
   "outputs": [],
   "source": []
  }
 ],
 "metadata": {
  "kernelspec": {
   "display_name": "Python 3",
   "language": "python",
   "name": "python3"
  },
  "language_info": {
   "codemirror_mode": {
    "name": "ipython",
    "version": 3
   },
   "file_extension": ".py",
   "mimetype": "text/x-python",
   "name": "python",
   "nbconvert_exporter": "python",
   "pygments_lexer": "ipython3",
   "version": "3.5.3"
  }
 },
 "nbformat": 4,
 "nbformat_minor": 2
}
